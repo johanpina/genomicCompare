{
 "cells": [
  {
   "cell_type": "markdown",
   "metadata": {},
   "source": [
    "## Curso de metagenómica\n",
    "Juan antonio jovel castillo\n",
    "DayHoff technologies\n",
    "\n",
    "\n",
    "Metagenómica para Genómica comparativa\n",
    "Diciembre - 2022"
   ]
  },
  {
   "cell_type": "code",
   "execution_count": 1,
   "metadata": {},
   "outputs": [
    {
     "name": "stdout",
     "output_type": "stream",
     "text": [
      "Genomica.ipynb\treadme.md\n"
     ]
    }
   ],
   "source": [
    "!ls"
   ]
  },
  {
   "cell_type": "markdown",
   "metadata": {},
   "source": [
    "### Configuración del servidor externo a usar\n",
    "\n",
    "https://app.edu.dayhoff.ai/courses\n",
    "\n",
    "Ingresamos a la plataforma, hacemos el registro e ingresamos al curso,\n",
    "\n",
    "Descargaremos el archivo `id_rsa.pem` y lo colocamos en la carpeta que creamos\n"
   ]
  },
  {
   "cell_type": "code",
   "execution_count": 4,
   "metadata": {},
   "outputs": [
    {
     "name": "stdout",
     "output_type": "stream",
     "text": [
      "mkdir: cannot create directory ‘ssh_key’: File exists\n"
     ]
    }
   ],
   "source": [
    "!mkdir ssh_key\n",
    "!mv id_rsa.pem ssh_key/\n",
    "!chmod 400 id_rsa.pem"
   ]
  },
  {
   "cell_type": "markdown",
   "metadata": {},
   "source": [
    "Nos conectamos al servidor por ssh usando el comando:\n",
    "\n",
    "`ssh -i ssh_key/id_rsa.pem johan.pinad@ec2-3-99-221-127.ca-central-1.compute.amazonaws.com`"
   ]
  },
  {
   "cell_type": "markdown",
   "metadata": {},
   "source": [
    "Dentro del servidor vamos a activar las variables de entorno con:\n",
    "\n",
    "`/usr/bin/enable_software`"
   ]
  },
  {
   "cell_type": "markdown",
   "metadata": {},
   "source": [
    "### Comandos útiles\n",
    "\n",
    "- ls\n",
    "- ls -l\n",
    "- cat file\n",
    "- cat ~/.bashrc\n",
    "- pwd\n",
    "- touch\n",
    "- head file \n",
    "- wc -l \n",
    "- mv\n",
    "- df -h -> para mirar el espacio\n",
    "- echo $shell -> muestra el interprete que estoy usando\n",
    "- grep \"esto es lo que quiero buscar\" archivo_a_consultar.extension\n",
    "- diff file1 file2 --> esto es para mirar la diferencia entre \n",
    "`"
   ]
  },
  {
   "cell_type": "markdown",
   "metadata": {},
   "source": [
    "### Shell en el que vamos a trabajar\n",
    "bash"
   ]
  },
  {
   "cell_type": "markdown",
   "metadata": {},
   "source": [
    "### Fundamentos de Linux y Terminal de Bash"
   ]
  },
  {
   "cell_type": "markdown",
   "metadata": {},
   "source": [
    "`for name in {johan alejandra juan isabel}; \n",
    "do \n",
    "    echo \"Estudiante $name\"; \n",
    "done`"
   ]
  },
  {
   "cell_type": "markdown",
   "metadata": {},
   "source": [
    "#### Los alias son variables que se crean y contienen comandos listos para que los podamos ejecutar\n",
    "\n",
    "`alias var = 'cd /carpeta'`\n",
    "\n",
    "\n",
    "la variable 'librerias' me lleva a la carpeta de libraries donde se encuentran las cosas\n",
    "\n"
   ]
  },
  {
   "cell_type": "markdown",
   "metadata": {},
   "source": [
    "`for FILE in *_R1.fq; do wc -l $FILE; done`"
   ]
  },
  {
   "cell_type": "markdown",
   "metadata": {},
   "source": [
    "### Integridad estructural: Darle formato a nuestros datos, de manera que se puedan iterar\n",
    "\n",
    "El siguiente ejemplo muestra el uso de las expresiones para el ciclo For con los archivos y un patron que empieza con 0 y luego números\n",
    "\n",
    "\n",
    "`for FILE n 0[1-3]*; do echo $FILE; done`"
   ]
  },
  {
   "cell_type": "markdown",
   "metadata": {},
   "source": []
  },
  {
   "cell_type": "markdown",
   "metadata": {},
   "source": [
    "### Conceptos clave Bioinformáticos \n",
    "\n",
    "\n",
    "#### Definción de metagenómica\n",
    "¿Qué es la metagenómica?\n",
    "\n",
    "Ideas :\n",
    "\n",
    "Muestra microbian en un ambiente\n",
    "Muchos ADN simultaneamente en un lugar determinado\n",
    "\n",
    "Identificar los organismos presentes en una muestra a partir de ADN\n",
    "\n",
    "\n",
    "Proceso activo de identificación\n",
    "\n",
    "Metagenómica, 1. Identificación taxonómica\n",
    "              2. Caracterización funcional -> qué está haciendo en ese medio.\n",
    "\n",
    "\n",
    "Definición formal: **Recolección y el análisis de material genético contenido en muestras ambientales**"
   ]
  },
  {
   "cell_type": "markdown",
   "metadata": {},
   "source": [
    "#### Tipos de metagenómica\n",
    "\n",
    "\n",
    "16S metagenómica:\n",
    "        es más económica\n",
    "        Tiene un alcance mas reducido para hacer inferencias\n",
    "\n",
    "\n",
    "\"Shotgun\" Metagenomica\n",
    "\n",
    "    recolecta información real en muchos puntos."
   ]
  },
  {
   "cell_type": "markdown",
   "metadata": {},
   "source": [
    "#### Metagenómica shotgun\n",
    "\n",
    "\n",
    "Cuando se hace, cada anillo de color corresponde a un nivel taxonómico\n",
    "\n",
    "usa el algortimo \"lowest common ancestor algorithm\""
   ]
  },
  {
   "cell_type": "markdown",
   "metadata": {},
   "source": [
    "### Flujo  bioinformático que estamos usando en el curso\n",
    "\n",
    "* fastq -> Calidad con fastqc(visual)-> fastq-mcf(trimming) ->\n",
    "* Clasificación taxonómica -> pseudoalineamiento para saber quien está ahí ->kraken2 para saber probabilisticamente qúe tipos de organismos se alinearon con mis muestras. ->\n",
    "- Braken refina los resultados de kraken y filtra la abundancia relativa -> realiza estimaciones de diversidad. Crea resultados para usar en krona (muestra visualmente como es la composición de las muestras, hace estructuras jerarquicas, no importa si son muestras biológicas o no).\n",
    "- Se hace estadística(anális de discriminantes LEfSe)\n",
    ". \n",
    "NMDS\n",
    "PCA\n",
    "Bray curtis\n",
    "jackknifed unweighted uniFrac\n",
    "wheighted unifrac\n",
    "\n",
    "\n",
    "\n",
    "esto me permite ver las diferencias de las muestras y las distancias entre cada una de las muestras\n",
    "\n",
    "* Clasificación funcional --> usa metaflanc para clasificar taxonomica y la alinea con base de datos de proteina para sacar el tipo de proteina y el organismo\n"
   ]
  },
  {
   "cell_type": "markdown",
   "metadata": {},
   "source": [
    "### Recursión\n",
    "\n",
    "\n",
    "function recurse(){\n",
    "    // function code\n",
    "    recurse();\n",
    "}\n",
    "\n",
    "\n",
    "recurse();"
   ]
  },
  {
   "cell_type": "markdown",
   "metadata": {},
   "source": [
    "Este tipo de funciones recursivas son muy útiles para comparaciones filogenéticas y para determinar ancestrías."
   ]
  },
  {
   "cell_type": "code",
   "execution_count": 6,
   "metadata": {},
   "outputs": [
    {
     "name": "stdout",
     "output_type": "stream",
     "text": [
      "F 0 : 0\n",
      "F 1 : 1\n",
      "F 2 : 1\n",
      "F 3 : 2\n",
      "F 4 : 3\n",
      "F 5 : 5\n",
      "F 6 : 8\n",
      "F 7 : 13\n",
      "F 8 : 21\n",
      "F 9 : 34\n",
      "F 10 : 55\n"
     ]
    }
   ],
   "source": [
    "def fib(n):\n",
    "    if n==0 or n==1:\n",
    "        return n\n",
    "    else:\n",
    "        return fib(n-2) +fib(n-1)\n",
    "\n",
    "n=10\n",
    "for index,num in enumerate(range(n+1)):\n",
    "    print(f\"F {index} :\",fib(num))"
   ]
  },
  {
   "cell_type": "markdown",
   "metadata": {},
   "source": [
    "### Fundamentos de python"
   ]
  },
  {
   "cell_type": "code",
   "execution_count": 10,
   "metadata": {},
   "outputs": [
    {
     "name": "stdout",
     "output_type": "stream",
     "text": [
      "Requirement already satisfied: pandas in ./.env/lib/python3.8/site-packages (1.5.2)\n",
      "Requirement already satisfied: python-dateutil>=2.8.1 in ./.env/lib/python3.8/site-packages (from pandas) (2.8.2)\n",
      "Requirement already satisfied: pytz>=2020.1 in ./.env/lib/python3.8/site-packages (from pandas) (2022.6)\n",
      "Requirement already satisfied: numpy>=1.20.3; python_version < \"3.10\" in ./.env/lib/python3.8/site-packages (from pandas) (1.23.5)\n",
      "Requirement already satisfied: six>=1.5 in ./.env/lib/python3.8/site-packages (from python-dateutil>=2.8.1->pandas) (1.16.0)\n"
     ]
    }
   ],
   "source": [
    "# Instalamos la libreria pandas\n",
    "%pip install pandas"
   ]
  },
  {
   "cell_type": "code",
   "execution_count": null,
   "metadata": {},
   "outputs": [],
   "source": [
    "!cd scripts/"
   ]
  },
  {
   "cell_type": "markdown",
   "metadata": {},
   "source": [
    "#### Creamos un archivo example1.py\n",
    "\n",
    "vim example1.py "
   ]
  },
  {
   "cell_type": "code",
   "execution_count": 13,
   "metadata": {},
   "outputs": [
    {
     "name": "stdout",
     "output_type": "stream",
     "text": [
      "Hola Manizales\n",
      "Hola Manizales\n",
      "__main__\n"
     ]
    }
   ],
   "source": [
    "#!/.env/bin/python3\n",
    "\n",
    "import pandas as pd\n",
    "import sys\n",
    "import re\n",
    "import math\n",
    "\n",
    "print(\"Hola Manizales\")\n",
    "saludo = \"Hola Manizales\"\n",
    "print(saludo)\n",
    "#if __name__=='main':\n",
    "print(__name__)\n",
    "\n",
    "\n",
    "def main():\n",
    "    print(\"Hello World\")\n",
    "\n",
    "\n",
    "if __name__=='__main__':\n",
    "    main()"
   ]
  },
  {
   "cell_type": "markdown",
   "metadata": {},
   "source": [
    "#### Creamos el segundo archivo de ejemplo para llamar el modulo\n",
    "\n",
    "vim example2.py "
   ]
  },
  {
   "cell_type": "code",
   "execution_count": null,
   "metadata": {},
   "outputs": [],
   "source": [
    "from scripts import example1\n",
    "\n",
    "def main():\n",
    "    print(\"Hola Mundo P\")\n",
    "\n",
    "\n",
    "if __name__=='__main__':\n",
    "    main()"
   ]
  },
  {
   "cell_type": "markdown",
   "metadata": {},
   "source": [
    "#### Ahora se crean los archivos de calcular y calculadora\n",
    "\n",
    "Se ejecuta el script de calcular:\n",
    "\n",
    "\n",
    "`python3 calcular.py`  y se obserava que se puede usar la función de calculadora"
   ]
  },
  {
   "cell_type": "markdown",
   "metadata": {},
   "source": [
    "### Librerias Shotgun \n",
    "\n",
    "#### Clasificación Taxonómica\n",
    "\n",
    "\n",
    "Se van a usar \n",
    "Kraken2: Utiliza Pseudo alineamiento y Kmers= 35 nucleotidos. Luego usa LCA para clasificacion taxonomica, parametrizable, menos consumo de memoria (Mejor que metaphlan)\n",
    "MetaPhIAn 4: Usa genes marcadores únicos para clasificación taxonómica, más rápido que kraken y requiere mayor numero de secuencias. \n",
    "MG-RAST\n",
    "\n",
    "\n",
    "\n",
    "#### Evaluación de la clasificacion\n",
    "\n",
    "Proporción de secuencias clasificadas en un taxon correctamente\n",
    "\n",
    "#### Exhaustividad(recall): \n",
    "Proporción de secuencias pertenecientes a un taxón identificadas \n",
    "\n",
    "#### F1_score: Combina las dos anteriores \n",
    "\n",
    "F1 = 2(P*E)/(P+E)\n"
   ]
  },
  {
   "cell_type": "markdown",
   "metadata": {},
   "source": [
    "#### Trabajo Bioinformático en servidor"
   ]
  },
  {
   "cell_type": "markdown",
   "metadata": {},
   "source": [
    "En el servidor entramos a librerias con `librerias`\n",
    "\n",
    "\n",
    "y ejecutamos fastqc como sigue:\n",
    "\n",
    "`fastqc *.fq -o ~/`\n",
    "\n",
    "Con esto ejecutamos fastqc en el servidor y esperamos la salida"
   ]
  },
  {
   "cell_type": "markdown",
   "metadata": {},
   "source": [
    "#### En el servidor vamos a remover los .zip ya que no los necesitamos\n",
    "#### Ahora vamos a descargar los resultados del análisis en nuestra máquina desde el servidor usando SCP\n",
    "\n",
    "scp -i ssh_key/id_rsa.pem johan.pinad@ec2-3-99-221-127.ca-central-1.compute.amazonaws.com:~/*.html fastqc/\n"
   ]
  },
  {
   "cell_type": "markdown",
   "metadata": {},
   "source": [
    "#### Vamos ahora a hacer un trucar_secuencias.py\n",
    "vim truncar.py"
   ]
  },
  {
   "cell_type": "code",
   "execution_count": null,
   "metadata": {},
   "outputs": [],
   "source": [
    "#!/usr/bin/pytgon3\n",
    "import sys\n",
    "\n",
    "def main():\n",
    "    infile = open(sys.argv[1],'r')\n",
    "\n",
    "    while True:\n",
    "        id1 = infile.readline()\n",
    "        sec = infile.readline()\n",
    "        id2 = infile.readline()\n",
    "        cal = infile.readline()\n",
    "\n",
    "        print(id1 + sec + id2 + cal)\n",
    "\n",
    "if __name__=='__main__':\n",
    "    main()"
   ]
  },
  {
   "cell_type": "markdown",
   "metadata": {},
   "source": [
    "### Estudiamos ahora el script para trimming \n",
    "\n",
    "Con las funcionalidades de Biopython"
   ]
  },
  {
   "cell_type": "code",
   "execution_count": 16,
   "metadata": {},
   "outputs": [
    {
     "data": {
      "text/plain": [
       "35"
      ]
     },
     "execution_count": 16,
     "metadata": {},
     "output_type": "execute_result"
    }
   ],
   "source": [
    "## ord me entrega el valor numerico de un caracter.\n",
    "ord('#')"
   ]
  },
  {
   "cell_type": "markdown",
   "metadata": {},
   "source": [
    "### Kraken2\n",
    "\n",
    "Esta sección tiene la forma de correr kraken en el servidor, para realizar los análisis"
   ]
  },
  {
   "cell_type": "markdown",
   "metadata": {},
   "source": [
    "#### Ejecutar kraken2\n",
    "\n",
    "`kraken2 -h`"
   ]
  },
  {
   "cell_type": "markdown",
   "metadata": {},
   "source": [
    "!kraken2-build --build standard --db kraken2_db_prueba -t 12"
   ]
  },
  {
   "cell_type": "markdown",
   "metadata": {},
   "source": [
    "!kraken2-build --download-taxonomy --db kraken2_virus_221209\n",
    "\n",
    "Esto se usa para usar el algoritmo de LCA, se debe tener una referencia"
   ]
  },
  {
   "cell_type": "markdown",
   "metadata": {},
   "source": [
    "Bajemos las librerias solo de virus y que quede en la misma base de datos\n",
    "\n",
    "kraken2-build --download-library viral --db kraken2_virus_221209\n",
    "\n",
    "\n",
    "!Al profe este comando le sacaba un error de https que lo tuvo que buscar en un archivo en perl al parecer no encontraba la ruta del ftp definida\n",
    "\n",
    "\n",
    "!kraken2-build --download-library viral --db kraken2_virus_221209\n",
    "\n",
    "\n",
    "Este comando le dio un error al profe porque en un archivo de perl habia un enlace erroneo a un repositorio, él realizó la modificación y se pudo correr\n",
    "\n",
    "pero le salió un error con el dustmasker y usó el argumento --no-masking"
   ]
  },
  {
   "cell_type": "markdown",
   "metadata": {},
   "source": [
    "## Sesión 10-12-2022"
   ]
  },
  {
   "cell_type": "markdown",
   "metadata": {},
   "source": [
    "### pasar de Fastq a fasta\n",
    "\n",
    "\n",
    "cat archivo.fq| paste ----|awk '{print $1 \"\\n\"$2}'| sed 's/@/>/' >archivo.fasta\n",
    "\n",
    "En esta parte paste sirve para ir pasando el contenido de a 4 lineas a la vez.\n",
    "\n",
    "sed -i 1d archivo -> para cortar la primera linea de un archivo"
   ]
  },
  {
   "cell_type": "markdown",
   "metadata": {},
   "source": [
    "### crear un archivo\n",
    "\n",
    "cat > archivo\n",
    "\n",
    "linea1 \n",
    "linea2\n",
    "\n",
    "\n",
    "cut -f 1 archivo > col1 -->extrae las columna 1 de un archivo\n",
    "cut -f 2 archivo > col2 -->extrae la columna 2 de un archivo\n",
    "\n",
    "\n",
    "paste --> pega horizontalmente varias columnas"
   ]
  },
  {
   "cell_type": "markdown",
   "metadata": {},
   "source": [
    "\n",
    "for i in {11..20}; do echo $i; done >1_10.num\n",
    "for i in {11..20}; do echo $i; done >11_20.num\n",
    "\n",
    "awk '{for(i=1; i<=NF;i++){sum+=$i}{print aum}sum=0}' archivo"
   ]
  },
  {
   "cell_type": "markdown",
   "metadata": {},
   "source": [
    "### Programas convencionales para hacer control de calidad de las secuencias\n",
    "\n",
    "trimmomatic -> usa cutadapt para hacer \n",
    "\n",
    "\n",
    "fastq-mcf -h \n",
    "\n",
    "ademas de hacer trimming, busca los adaptadores\n"
   ]
  },
  {
   "cell_type": "markdown",
   "metadata": {},
   "source": []
  },
  {
   "cell_type": "code",
   "execution_count": null,
   "metadata": {},
   "outputs": [],
   "source": [
    "for FIILE in *R1.fq; do echo $FILE ${FILE/R1/R2}; done -> así ponemos reemplazar en el archivo donde vaya R1 por R2\n",
    "\n",
    "\n",
    "for FILE in *R1.fq; do fastq-mcf adapters.txt -o ~/${FILE/.fq/_fastqMCF.fq} -o ~/${FILE/_R1*/_R2_fastqMCF.fq} $FILE ${FILE/R1/R2} -l 50 -q 20; done"
   ]
  },
  {
   "cell_type": "markdown",
   "metadata": {},
   "source": [
    "### Ejecutamos luego del trimming la calidad de la secuencia."
   ]
  },
  {
   "cell_type": "markdown",
   "metadata": {},
   "source": [
    "### Vamos a retomar lo que hicimos de kraken\n",
    "\n",
    "DB='/home/bioinformatics_manizales_2022/material_curso/db/kraken2_virus_221209/'\n",
    "\n",
    "kraken2 --db $DB --report ~/libo1.k2rpt --paired lib01_R1.fq lib01_R2.fq --output ~/lin0.1.k2\n",
    "\n",
    "kraken2 --db $DB --use-mpa-style --report lib01.k2rpt --output ~/"
   ]
  },
  {
   "cell_type": "markdown",
   "metadata": {},
   "source": [
    "`for FILE in *_R1_trimmer.fq; do python3 pair_ends.py $FILE $(FILE/R1/R2) $FILE/_*/};done`"
   ]
  },
  {
   "cell_type": "markdown",
   "metadata": {},
   "source": [
    "`for FILE in *fastq; do mv $FILE ${FILE/.fastq/_trimmed.fq}; done`\n",
    "\n",
    "los archivos deben tener la misma longitud es por eso que se corre el archivo para generar los huerfanos\n"
   ]
  },
  {
   "cell_type": "markdown",
   "metadata": {},
   "source": [
    "### vamos entonces a colocar esas sentencias en un archivo .sh\n"
   ]
  },
  {
   "cell_type": "markdown",
   "metadata": {},
   "source": [
    "#!/usr/bin/bash\n",
    "\n",
    "DB='/home/bioinformatics_manizaes/2022/material_curso/db/k2_standard_16gb_220926'\n",
    "\n",
    "\n",
    "`for FILE in *_R1_fastqMCF.fq; do kraken2 --db $DB --memory-mapping --confidence 0.1 --report ~/${FILE/_*/}.k2rpt --output ~/${FILE/_*/}.k2 --paired $FILE ${FILE/_R1/_R2}; done`"
   ]
  },
  {
   "cell_type": "markdown",
   "metadata": {},
   "source": [
    "### Corremos ahora braken pero debemos reenlazar el binario de bracken\n",
    "\n",
    "echo 'export PATH=/home/bioinformatics_manizales_2022/material_curso/Bracken-2.8:$PATH' >> ~/.bashrc\n",
    "\n",
    "source ~/.bashrc"
   ]
  },
  {
   "cell_type": "markdown",
   "metadata": {},
   "source": [
    "for FILE in *k2rpt; bracken -d $DB -i $FILE -r 300 -t 100 -o ~/${FILE/.k2rpt/.bck} -w ~/${FILE/k2rpt/bckrpt};done\n",
    "\n",
    "se debe ver el scrit que hozo el profe en el servidor porque tuvo problemas para ejecutar cosas"
   ]
  },
  {
   "cell_type": "markdown",
   "metadata": {},
   "source": [
    "### "
   ]
  },
  {
   "cell_type": "markdown",
   "metadata": {},
   "source": [
    "Diversidad alfa\n",
    "\n",
    "cuantas especies diversas hay en un ambiente respecto a la densidad\n",
    "\n",
    "Diversidad beta = ?\n",
    "\n",
    "\n",
    "alpha_diversity.py -h \n",
    "\n",
    "\n",
    "KrakenTools "
   ]
  },
  {
   "cell_type": "markdown",
   "metadata": {},
   "source": [
    "miramos la forma de pasar de kreport2krona y lo ejecutamos\n",
    "\n",
    "kreport2krona.py\n",
    "\n",
    "for FILE in *.bckrpt; do kreport2krona.py -r $FILE -o ${FILE/.bckrpt/_krona.txt} --no-intermediate-ranks; done\n",
    "\n",
    "\n",
    "head *.txt"
   ]
  },
  {
   "cell_type": "markdown",
   "metadata": {},
   "source": [
    "zip -r nombre.zip carpeta/"
   ]
  },
  {
   "cell_type": "markdown",
   "metadata": {},
   "source": [
    "### Tips para visualizar \n",
    "\n",
    "\n",
    "https://www.shinecharity.org.uk/support-for-professionals/shine-reports\n",
    "\n",
    "\n",
    "este formato"
   ]
  },
  {
   "cell_type": "markdown",
   "metadata": {},
   "source": [
    "https://www.microbiomeanalyst.ca/"
   ]
  },
  {
   "cell_type": "markdown",
   "metadata": {},
   "source": [
    "FastQ Trimmomatic bash  https://github.com/biovcnet/biovcnet.github.io/wiki/TOPIC%3A-Metagenomics"
   ]
  },
  {
   "cell_type": "markdown",
   "metadata": {},
   "source": [
    "https://biovcnet.github.io/ hay muy buenos recursos es una red coordinada de bioinformaticos, hay recursos para python, metagenomica y R"
   ]
  },
  {
   "cell_type": "markdown",
   "metadata": {},
   "source": [
    "* 🧬 Analisis Metagenomico\n",
    "* 📂 Material: https://drive.google.com/drive/folders/1Dj6oxTlIer7ps6X651xIMmrTlqqSaBNl \n",
    "* 📽️ Dia 1 https://www.youtube.com/watch?v=m8cU7f8s-Ac&list=PLOXLw2he7kYpET_tQK7wdEw739Lgz-HAf\n",
    "* 📽️ Dia 2 https://www.youtube.com/watch?v=omU0KO0r4XM&list=PLOXLw2he7kYpET_tQK7wdEw739Lgz-HAf&index=2 \n",
    "* 📽️ Dia 3 https://www.youtube.com/watch?v=nq0IqS9AXk8&list=PLOXLw2he7kYpET_tQK7wdEw739Lgz-HAf&index=3"
   ]
  },
  {
   "cell_type": "markdown",
   "metadata": {},
   "source": [
    "https://www.gear-genomics.com/ proyectos genomicos interesantes con codigo..."
   ]
  },
  {
   "cell_type": "markdown",
   "metadata": {},
   "source": [
    "debo instalar lefse, los archivos en python para realizar esto son lefse_format_inpput.py"
   ]
  },
  {
   "cell_type": "markdown",
   "metadata": {},
   "source": [
    "ver el articulo de aguilar-marin Sandra\n",
    "https://pubmed.ncbi.nlm.nih.gov/33246412/"
   ]
  }
 ],
 "metadata": {
  "kernelspec": {
   "display_name": "Python 3.8.10 ('.env': venv)",
   "language": "python",
   "name": "python3"
  },
  "language_info": {
   "codemirror_mode": {
    "name": "ipython",
    "version": 3
   },
   "file_extension": ".py",
   "mimetype": "text/x-python",
   "name": "python",
   "nbconvert_exporter": "python",
   "pygments_lexer": "ipython3",
   "version": "3.8.10"
  },
  "orig_nbformat": 4,
  "vscode": {
   "interpreter": {
    "hash": "18ab8a993fa06d76f07369d24c6abda31343c123021bf972903e0075acbf764e"
   }
  }
 },
 "nbformat": 4,
 "nbformat_minor": 2
}
