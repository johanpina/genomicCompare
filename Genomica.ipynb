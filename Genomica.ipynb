{
 "cells": [
  {
   "cell_type": "markdown",
   "metadata": {},
   "source": [
    "## Curso de metagenómica\n",
    "Juan antonio jovel castillo\n",
    "DayHoff technologies\n",
    "\n",
    "\n",
    "Metagenómica para Genómica comparativa\n",
    "Diciembre - 2022"
   ]
  },
  {
   "cell_type": "code",
   "execution_count": 1,
   "metadata": {},
   "outputs": [
    {
     "name": "stdout",
     "output_type": "stream",
     "text": [
      "Genomica.ipynb\treadme.md\n"
     ]
    }
   ],
   "source": [
    "!ls"
   ]
  },
  {
   "cell_type": "markdown",
   "metadata": {},
   "source": [
    "### Configuración del servidor externo a usar\n",
    "\n",
    "https://app.edu.dayhoff.ai/courses\n",
    "\n",
    "Ingresamos a la plataforma, hacemos el registro e ingresamos al curso,\n",
    "\n",
    "Descargaremos el archivo `id_rsa.pem` y lo colocamos en la carpeta que creamos\n"
   ]
  },
  {
   "cell_type": "code",
   "execution_count": 4,
   "metadata": {},
   "outputs": [
    {
     "name": "stdout",
     "output_type": "stream",
     "text": [
      "mkdir: cannot create directory ‘ssh_key’: File exists\n"
     ]
    }
   ],
   "source": [
    "!mkdir ssh_key\n",
    "!mv id_rsa.pem ssh_key/\n",
    "!chmod 400 id_rsa.pem"
   ]
  },
  {
   "cell_type": "markdown",
   "metadata": {},
   "source": [
    "Nos conectamos al servidor por ssh usando el comando:\n",
    "\n",
    "`ssh -i ssh_key/id_rsa.pem johan.pinad@ec2-3-99-221-127.ca-central-1.compute.amazonaws.com`"
   ]
  },
  {
   "cell_type": "markdown",
   "metadata": {},
   "source": [
    "Dentro del servidor vamos a activar las variables de entorno con:\n",
    "\n",
    "`/usr/bin/enable_software`"
   ]
  },
  {
   "cell_type": "markdown",
   "metadata": {},
   "source": [
    "### Comandos útiles\n",
    "\n",
    "- ls\n",
    "- ls -l\n",
    "- cat file\n",
    "- cat ~/.bashrc\n",
    "- pwd\n",
    "- touch\n",
    "- head file \n",
    "- wc -l \n",
    "- mv\n",
    "- df -h -> para mirar el espacio\n",
    "\n",
    "`"
   ]
  },
  {
   "cell_type": "markdown",
   "metadata": {},
   "source": [
    "### Shell en el que vamos a trabajar\n",
    "bash"
   ]
  },
  {
   "cell_type": "markdown",
   "metadata": {},
   "source": [
    "### Fundamentos de Linux y Terminal de Bash"
   ]
  },
  {
   "cell_type": "markdown",
   "metadata": {},
   "source": [
    "`for name in {johan alejandra juan isabel}; \n",
    "do \n",
    "    echo \"Estudiante $name\"; \n",
    "done`"
   ]
  },
  {
   "cell_type": "markdown",
   "metadata": {},
   "source": [
    "#### Los alias son variables que se crean y contienen comandos listos para que los podamos ejecutar\n",
    "\n",
    "`alias var = 'cd /carpeta'`\n",
    "\n",
    "\n",
    "la variable 'librerias' me lleva a la carpeta de libraries donde se encuentran las cosas\n",
    "\n"
   ]
  },
  {
   "cell_type": "markdown",
   "metadata": {},
   "source": [
    "`for FILE in *_R1.fq; do wc -l $FILE; done`"
   ]
  },
  {
   "cell_type": "markdown",
   "metadata": {},
   "source": [
    "### Integridad estructural: Darle formato a nuestros datos, de manera que se puedan iterar\n",
    "\n",
    "El siguiente ejemplo muestra el uso de las expresiones para el ciclo For con los archivos y un patron que empieza con 0 y luego números\n",
    "\n",
    "\n",
    "`for FILE n 0[1-3]*; do echo $FILE; done`"
   ]
  },
  {
   "cell_type": "markdown",
   "metadata": {},
   "source": []
  },
  {
   "cell_type": "markdown",
   "metadata": {},
   "source": [
    "### Conceptos clave Bioinformáticos \n",
    "\n",
    "\n",
    "#### Definción de metagenómica\n",
    "¿Qué es la metagenómica?\n",
    "\n",
    "Ideas :\n",
    "\n",
    "Muestra microbian en un ambiente\n",
    "Muchos ADN simultaneamente en un lugar determinado\n",
    "\n",
    "Identificar los organismos presentes en una muestra a partir de ADN\n",
    "\n",
    "\n",
    "Proceso activo de identificación\n",
    "\n",
    "Metagenómica, 1. Identificación taxonómica\n",
    "              2. Caracterización funcional -> qué está haciendo en ese medio.\n",
    "\n",
    "\n",
    "Definición formal: **Recolección y el análisis de material genético contenido en muestras ambientales**"
   ]
  },
  {
   "cell_type": "markdown",
   "metadata": {},
   "source": [
    "#### Tipos de metagenómica\n",
    "\n",
    "\n",
    "16S metagenómica:\n",
    "        es más económica\n",
    "        Tiene un alcance mas reducido para hacer inferencias\n",
    "\n",
    "\n",
    "\"Shotgun\" Metagenomica\n",
    "\n",
    "    recolecta información real en muchos puntos."
   ]
  },
  {
   "cell_type": "markdown",
   "metadata": {},
   "source": [
    "#### Metagenómica shotgun\n",
    "\n",
    "\n",
    "Cuando se hace, cada anillo de color corresponde a un nivel taxonómico\n",
    "\n",
    "usa el algortimo \"lowest common ancestor algorithm\""
   ]
  },
  {
   "cell_type": "markdown",
   "metadata": {},
   "source": [
    "### Recursión\n",
    "\n",
    "\n",
    "function recurse(){\n",
    "    // function code\n",
    "    recurse();\n",
    "}\n",
    "\n",
    "\n",
    "recurse();"
   ]
  },
  {
   "cell_type": "markdown",
   "metadata": {},
   "source": [
    "Este tipo de funciones recursivas son muy útiles para comparaciones filogenéticas y para determinar ancestrías."
   ]
  },
  {
   "cell_type": "code",
   "execution_count": 6,
   "metadata": {},
   "outputs": [
    {
     "name": "stdout",
     "output_type": "stream",
     "text": [
      "F 0 : 0\n",
      "F 1 : 1\n",
      "F 2 : 1\n",
      "F 3 : 2\n",
      "F 4 : 3\n",
      "F 5 : 5\n",
      "F 6 : 8\n",
      "F 7 : 13\n",
      "F 8 : 21\n",
      "F 9 : 34\n",
      "F 10 : 55\n"
     ]
    }
   ],
   "source": [
    "def fib(n):\n",
    "    if n==0 or n==1:\n",
    "        return n\n",
    "    else:\n",
    "        return fib(n-2) +fib(n-1)\n",
    "\n",
    "n=10\n",
    "for index,num in enumerate(range(n+1)):\n",
    "    print(f\"F {index} :\",fib(num))"
   ]
  },
  {
   "cell_type": "markdown",
   "metadata": {},
   "source": [
    "### Fundamentos de python"
   ]
  },
  {
   "cell_type": "code",
   "execution_count": 10,
   "metadata": {},
   "outputs": [
    {
     "name": "stdout",
     "output_type": "stream",
     "text": [
      "Requirement already satisfied: pandas in ./.env/lib/python3.8/site-packages (1.5.2)\n",
      "Requirement already satisfied: python-dateutil>=2.8.1 in ./.env/lib/python3.8/site-packages (from pandas) (2.8.2)\n",
      "Requirement already satisfied: pytz>=2020.1 in ./.env/lib/python3.8/site-packages (from pandas) (2022.6)\n",
      "Requirement already satisfied: numpy>=1.20.3; python_version < \"3.10\" in ./.env/lib/python3.8/site-packages (from pandas) (1.23.5)\n",
      "Requirement already satisfied: six>=1.5 in ./.env/lib/python3.8/site-packages (from python-dateutil>=2.8.1->pandas) (1.16.0)\n"
     ]
    }
   ],
   "source": [
    "# Instalamos la libreria pandas\n",
    "%pip install pandas"
   ]
  },
  {
   "cell_type": "code",
   "execution_count": null,
   "metadata": {},
   "outputs": [],
   "source": [
    "!cd scripts/"
   ]
  },
  {
   "cell_type": "markdown",
   "metadata": {},
   "source": [
    "#### Creamos un archivo example1.py\n",
    "\n",
    "vim example1.py "
   ]
  },
  {
   "cell_type": "code",
   "execution_count": 13,
   "metadata": {},
   "outputs": [
    {
     "name": "stdout",
     "output_type": "stream",
     "text": [
      "Hola Manizales\n",
      "Hola Manizales\n",
      "__main__\n"
     ]
    }
   ],
   "source": [
    "#!/.env/bin/python3\n",
    "\n",
    "import pandas as pd\n",
    "import sys\n",
    "import re\n",
    "import math\n",
    "\n",
    "print(\"Hola Manizales\")\n",
    "saludo = \"Hola Manizales\"\n",
    "print(saludo)\n",
    "#if __name__=='main':\n",
    "print(__name__)\n",
    "\n",
    "\n",
    "def main():\n",
    "    print(\"Hello World\")\n",
    "\n",
    "\n",
    "if __name__=='__main__':\n",
    "    main()"
   ]
  },
  {
   "cell_type": "markdown",
   "metadata": {},
   "source": [
    "#### Creamos el segundo archivo de ejemplo para llamar el modulo\n",
    "\n",
    "vim example2.py "
   ]
  },
  {
   "cell_type": "code",
   "execution_count": null,
   "metadata": {},
   "outputs": [],
   "source": [
    "from scripts import example1\n",
    "\n",
    "def main():\n",
    "    print(\"Hola Mundo P\")\n",
    "\n",
    "\n",
    "if __name__=='__main__':\n",
    "    main()"
   ]
  },
  {
   "cell_type": "markdown",
   "metadata": {},
   "source": [
    "#### Ahora se crean los archivos de calcular y calculadora\n",
    "\n",
    "Se ejecuta el script de calcular:\n",
    "\n",
    "\n",
    "`python3 calcular.py`  y se obserava que se puede usar la función de calculadora"
   ]
  },
  {
   "cell_type": "markdown",
   "metadata": {},
   "source": [
    "### Librerias Shotgun \n",
    "\n",
    "#### Clasificación Taxonómica\n",
    "\n",
    "\n",
    "Se van a usar \n",
    "Kraken2: Utiliza Pseudo alineamiento y Kmers= 35 nucleotidos. Luego usa LCA para clasificacion taxonomica, parametrizable, menos consumo de memoria (Mejor que metaphlan)\n",
    "MetaPhIAn 4: Usa genes marcadores únicos para clasificación taxonómica, más rápido que kraken y requiere mayor numero de secuencias. \n",
    "MG-RAST\n",
    "\n",
    "\n",
    "\n",
    "#### Evaluación de la clasificacion\n",
    "\n",
    "Proporción de secuencias clasificadas en un taxon correctamente\n",
    "\n",
    "#### Exhaustividad(recall): \n",
    "Proporción de secuencias pertenecientes a un taxón identificadas \n",
    "\n",
    "#### F1_score: Combina las dos anteriores \n",
    "\n",
    "F1 = 2(P*E)/(P+E)\n"
   ]
  },
  {
   "cell_type": "markdown",
   "metadata": {},
   "source": [
    "#### Trabajo Bioinformático en servidor"
   ]
  },
  {
   "cell_type": "markdown",
   "metadata": {},
   "source": [
    "En el servidor entramos a librerias con `librerias`\n",
    "\n",
    "\n",
    "y ejecutamos fastqc como sigue:\n",
    "\n",
    "`fastqc *.fq -o ~/`\n",
    "\n",
    "Con esto ejecutamos fastqc en el servidor y esperamos la salida"
   ]
  },
  {
   "cell_type": "markdown",
   "metadata": {},
   "source": [
    "#### En el servidor vamos a remover los .zip ya que no los necesitamos\n",
    "#### Ahora vamos a descargar los resultados del análisis en nuestra máquina desde el servidor usando SCP\n",
    "\n",
    "scp -i ssh_key/id_rsa.pem johan.pinad@ec2-3-99-221-127.ca-central-1.compute.amazonaws.com:~/*.html fastqc/\n"
   ]
  },
  {
   "cell_type": "markdown",
   "metadata": {},
   "source": [
    "#### Vamos ahora a hacer un trucar_secuencias.py\n",
    "vim truncar.py"
   ]
  },
  {
   "cell_type": "code",
   "execution_count": null,
   "metadata": {},
   "outputs": [],
   "source": [
    "#!/usr/bin/pytgon3\n",
    "import sys\n",
    "\n",
    "def main():\n",
    "    infile = open(sys.argv[1],'r')\n",
    "\n",
    "    while True:\n",
    "        id1 = infile.readline()\n",
    "        sec = infile.readline()\n",
    "        id2 = infile.readline()\n",
    "        cal = infile.readline()\n",
    "\n",
    "        print(id1 + sec + id2 + cal)\n",
    "\n",
    "if __name__=='__main__':\n",
    "    main()"
   ]
  },
  {
   "cell_type": "markdown",
   "metadata": {},
   "source": [
    "### Estudiamos ahora el script para trimming \n",
    "\n",
    "Con las funcionalidades de Biopython"
   ]
  },
  {
   "cell_type": "code",
   "execution_count": 16,
   "metadata": {},
   "outputs": [
    {
     "data": {
      "text/plain": [
       "35"
      ]
     },
     "execution_count": 16,
     "metadata": {},
     "output_type": "execute_result"
    }
   ],
   "source": [
    "## ord me entrega el valor numerico de un caracter.\n",
    "ord('#')"
   ]
  },
  {
   "cell_type": "markdown",
   "metadata": {},
   "source": [
    "### Kraken2\n",
    "\n",
    "Esta sección tiene la forma de correr kraken en el servidor, para realizar los análisis"
   ]
  },
  {
   "cell_type": "markdown",
   "metadata": {},
   "source": [
    "#### Ejecutar kraken2\n",
    "\n",
    "`kraken2 -h`"
   ]
  },
  {
   "cell_type": "markdown",
   "metadata": {},
   "source": [
    "!kraken2-build --build standard --db kraken2_db_prueba -t 12"
   ]
  },
  {
   "cell_type": "markdown",
   "metadata": {},
   "source": [
    "!kraken2-build --download-taxonomy --db kraken2_virus_221209\n",
    "\n",
    "Esto se usa para usar el algoritmo de LCA, se debe tener una referencia"
   ]
  },
  {
   "cell_type": "markdown",
   "metadata": {},
   "source": [
    "Bajemos las librerias solo de virus y que quede en la misma base de datos\n",
    "\n",
    "kraken2-build --download-library viral --db kraken2_virus_221209\n",
    "\n",
    "\n",
    "!Al profe este comando le sacaba un error de https que lo tuvo que buscar en un archivo en perl al parecer no encontraba la ruta del ftp definida\n",
    "\n",
    "\n",
    "!kraken2-build --download-library viral --db kraken2_virus_221209\n",
    "\n",
    "\n",
    "Este comando le dio un error al profe porque en un archivo de perl habia un enlace erroneo a un repositorio, él realizó la modificación y se pudo correr\n",
    "\n",
    "pero le salió un error con el dustmasker y usó el argumento --no-masking"
   ]
  },
  {
   "cell_type": "markdown",
   "metadata": {},
   "source": []
  }
 ],
 "metadata": {
  "kernelspec": {
   "display_name": "Python 3.8.10 ('.env': venv)",
   "language": "python",
   "name": "python3"
  },
  "language_info": {
   "codemirror_mode": {
    "name": "ipython",
    "version": 3
   },
   "file_extension": ".py",
   "mimetype": "text/x-python",
   "name": "python",
   "nbconvert_exporter": "python",
   "pygments_lexer": "ipython3",
   "version": "3.8.10"
  },
  "orig_nbformat": 4,
  "vscode": {
   "interpreter": {
    "hash": "18ab8a993fa06d76f07369d24c6abda31343c123021bf972903e0075acbf764e"
   }
  }
 },
 "nbformat": 4,
 "nbformat_minor": 2
}
